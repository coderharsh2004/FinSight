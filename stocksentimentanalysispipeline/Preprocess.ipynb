{
  "nbformat": 4,
  "nbformat_minor": 0,
  "metadata": {
    "colab": {
      "provenance": [],
      "gpuType": "T4"
    },
    "kernelspec": {
      "name": "python3",
      "display_name": "Python 3"
    },
    "language_info": {
      "name": "python"
    },
    "accelerator": "GPU"
  },
  "cells": [
    {
      "cell_type": "code",
      "execution_count": null,
      "metadata": {
        "colab": {
          "base_uri": "https://localhost:8080/"
        },
        "id": "gNMDzMeYrOZs",
        "outputId": "02a65e9e-92df-45e5-fe12-67805cd71ccd"
      },
      "outputs": [
        {
          "output_type": "stream",
          "name": "stdout",
          "text": [
            "Mounted at /content/drive\n",
            "Preprocessing complete! Cleaned file saved at: /content/drive/My Drive/cleaned_stock_jpr.csv\n"
          ]
        }
      ],
      "source": [
        "import pandas as pd\n",
        "import re\n",
        "\n",
        "# Load the CSV file\n",
        "  # Corrected file path\n",
        "df = pd.read_csv(\"final_unpro.csv\")\n",
        "\n",
        "# Preprocessing function\n",
        "def clean_text(text):\n",
        "    text = text.lower()  # Convert to lowercase\n",
        "    text = re.sub(r'http\\S+', '', text)  # Remove URLs\n",
        "    text = re.sub(r'[^a-zA-Z0-9\\s]', '', text)  # Remove special characters\n",
        "    text = re.sub(r'\\s+', ' ', text).strip()  # Remove extra spaces\n",
        "    return text\n",
        "\n",
        "# Apply cleaning\n",
        "df[\"Sentence\"] = df[\"Sentence\"].astype(str).apply(clean_text)\n",
        "\n",
        "# Save the cleaned dataset\n",
        "\n",
        "from google.colab import drive\n",
        "drive.mount('/content/drive')\n",
        "\n",
        "cleaned_file_path = \"/content/drive/My Drive/cleaned_stock_jpr.csv\"\n",
        "df.to_csv(cleaned_file_path, index=False)\n",
        "\n",
        "print(f\"Preprocessing complete! Cleaned file saved at: {cleaned_file_path}\")\n"
      ]
    },
    {
      "cell_type": "code",
      "source": [],
      "metadata": {
        "id": "l-0x_5zn8nmo"
      },
      "execution_count": null,
      "outputs": []
    }
  ]
}